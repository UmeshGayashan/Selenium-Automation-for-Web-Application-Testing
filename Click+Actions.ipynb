{
 "cells": [
  {
   "cell_type": "code",
   "execution_count": 29,
   "id": "7e2690ce",
   "metadata": {},
   "outputs": [],
   "source": [
    "from selenium import webdriver\n",
    "from selenium.webdriver.common.action_chains import ActionChains\n",
    "import time\n",
    "\n",
    "driver_path=\"/Users/apple/Desktop/driver/chromedriver\"\n",
    "driver = webdriver.Chrome(executable_path=driver_path)\n",
    "driver.get(\"https://www.python.org/\")\n",
    "\n",
    "action = ActionChains(driver)\n",
    "tab = driver.find_element_by_class_name('donate-button')\n",
    "\n",
    "# Performing Click Actions\n",
    "\n",
    "# action.click(on_element=tab) - Performs a click action on the element\n",
    "# action.double_click(on_element=tab) - Double clicks the specified element\n",
    "# action.click_and_hold(on_element=tab) - Clicks and holds an element;\n",
    "# It is always good to perform a release action after using the click_and_hold method so that you\n",
    "# can release the hold on the element\n",
    "# action.click_and_hold(on_element=tab)\n",
    "# action.release(tab)\n",
    "\n",
    "\n",
    "action.perform()\n",
    "time.sleep(10) # Delays the shutting down of the browser window\n",
    "\n",
    "driver.quit()"
   ]
  },
  {
   "cell_type": "code",
   "execution_count": null,
   "id": "968f5206",
   "metadata": {},
   "outputs": [],
   "source": []
  },
  {
   "cell_type": "code",
   "execution_count": null,
   "id": "33e6f21b",
   "metadata": {},
   "outputs": [],
   "source": []
  }
 ],
 "metadata": {
  "kernelspec": {
   "display_name": "Python 3 (ipykernel)",
   "language": "python",
   "name": "python3"
  },
  "language_info": {
   "codemirror_mode": {
    "name": "ipython",
    "version": 3
   },
   "file_extension": ".py",
   "mimetype": "text/x-python",
   "name": "python",
   "nbconvert_exporter": "python",
   "pygments_lexer": "ipython3",
   "version": "3.9.12"
  }
 },
 "nbformat": 4,
 "nbformat_minor": 5
}
